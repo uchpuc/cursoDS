{
 "cells": [
  {
   "cell_type": "markdown",
   "id": "92657c14",
   "metadata": {},
   "source": [
    "# Data Science Tools and Ecosystem"
   ]
  },
  {
   "cell_type": "markdown",
   "id": "26b72ea5",
   "metadata": {},
   "source": [
    "In this notebook, Data Science Tools and Ecosystem are summarized."
   ]
  },
  {
   "cell_type": "markdown",
   "id": "879dc3ed",
   "metadata": {},
   "source": [
    "***Objectives:***\n",
    "    \n",
    "- List popular languages for Data Science\n",
    "- List popular libraries for Data Science\n",
    "- List popular IDEs for Data Science"
   ]
  },
  {
   "cell_type": "markdown",
   "id": "7d68545d",
   "metadata": {},
   "source": [
    "## Author\n",
    "Pedro Fernely Uch Puc\n"
   ]
  },
  {
   "cell_type": "markdown",
   "id": "17a02f72",
   "metadata": {},
   "source": [
    "Some of the popular languages that Data Scientists use are:\n",
    "\n",
    "1. Python\n",
    "2. R\n",
    "3. SQL"
   ]
  },
  {
   "cell_type": "markdown",
   "id": "0304886d",
   "metadata": {},
   "source": [
    "Some of the commonly used libraries used by Data Scientists include:\n",
    "    \n",
    "1. Numpy\n",
    "2. Pandas\n",
    "3. Scipy"
   ]
  },
  {
   "cell_type": "markdown",
   "id": "4226843d",
   "metadata": {},
   "source": [
    "|Data Science Tools|\n",
    "|------------------|\n",
    "|Jupyter Notebook|\n",
    "|Rstudio|\n",
    "|Git|"
   ]
  },
  {
   "cell_type": "markdown",
   "id": "859c070f",
   "metadata": {},
   "source": [
    "### Below are a few examples of evaluating arithmetic expressions in Python\n",
    "\n",
    "$a + b$  \n",
    "$a - b$  \n",
    "$a \\times b$  \n",
    "$a ^ b$  "
   ]
  },
  {
   "cell_type": "code",
   "execution_count": 3,
   "id": "9fa645f5",
   "metadata": {},
   "outputs": [
    {
     "data": {
      "text/plain": [
       "17"
      ]
     },
     "execution_count": 3,
     "metadata": {},
     "output_type": "execute_result"
    }
   ],
   "source": [
    "#This a simple arithmetic expression to mutiply then add integers\n",
    "(3*4)+5"
   ]
  },
  {
   "cell_type": "code",
   "execution_count": 5,
   "id": "3feda711",
   "metadata": {},
   "outputs": [],
   "source": [
    "#This will convert 200 minutes to hours by diving by 60\n",
    "horas=200/60"
   ]
  },
  {
   "cell_type": "code",
   "execution_count": 6,
   "id": "565a7c47",
   "metadata": {},
   "outputs": [
    {
     "name": "stdout",
     "output_type": "stream",
     "text": [
      "3.3333333333333335\n"
     ]
    }
   ],
   "source": [
    "print(horas)"
   ]
  },
  {
   "cell_type": "code",
   "execution_count": null,
   "id": "e3ddf8f9",
   "metadata": {},
   "outputs": [],
   "source": []
  }
 ],
 "metadata": {
  "kernelspec": {
   "display_name": "Python 3 (ipykernel)",
   "language": "python",
   "name": "python3"
  },
  "language_info": {
   "codemirror_mode": {
    "name": "ipython",
    "version": 3
   },
   "file_extension": ".py",
   "mimetype": "text/x-python",
   "name": "python",
   "nbconvert_exporter": "python",
   "pygments_lexer": "ipython3",
   "version": "3.11.5"
  }
 },
 "nbformat": 4,
 "nbformat_minor": 5
}
